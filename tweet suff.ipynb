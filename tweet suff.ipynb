{
 "cells": [
  {
   "cell_type": "code",
   "execution_count": 2,
   "metadata": {},
   "outputs": [],
   "source": [
    "import numpy as np\n",
    "from sklearn.feature_extraction.text import CountVectorizer\n",
    "from sklearn.feature_extraction.text import TfidfTransformer \n",
    "from sklearn.naive_bayes import MultinomialNB\n",
    "import re\n",
    "import matplotlib.pyplot as plt"
   ]
  },
  {
   "cell_type": "code",
   "execution_count": 3,
   "metadata": {},
   "outputs": [],
   "source": [
    "def removeLinks(line):\n",
    "    newLine = re.sub(\"http[s]?://(?:[a-zA-Z]|[0-9]|[$-_@.&+]|[!*\\(\\),]|(?:%[0-9a-fA-F][0-9a-fA-F]))+\",\" \",line)\n",
    "    return newLine"
   ]
  },
  {
   "cell_type": "code",
   "execution_count": 4,
   "metadata": {},
   "outputs": [],
   "source": [
    "def tokenize(fn):\n",
    "    tokens = []\n",
    "    fn  = removeLinks(fn)\n",
    "    words = re.split('[^a-z0-9]+', fn.lower())\n",
    "    for word in words:\n",
    "        if len(word) > 2:\n",
    "            tokens.append(word)\n",
    "    return tokens"
   ]
  },
  {
   "cell_type": "code",
   "execution_count": 5,
   "metadata": {},
   "outputs": [],
   "source": [
    "def getStringArrayFromNumpyDataFrame(dataframe):\n",
    "    list=[]\n",
    "    for s in dataframe.values:\n",
    "        if len(str(s[0]))>0:\n",
    "            list.append(str(s[0]))\n",
    "    return list"
   ]
  },
  {
   "cell_type": "code",
   "execution_count": 6,
   "metadata": {},
   "outputs": [],
   "source": [
    "def getEmotions(text,clf):\n",
    "\n",
    "    text = tokenize(text)\n",
    "    X_new_counts = count_vect.transform(text)\n",
    "    #print(\"New COUNTS: \",X_new_counts)\n",
    "    X_new_tfidf = tfidf_transformer.transform(X_new_counts)\n",
    "    predicted = clf.predict(X_new_tfidf)\n",
    "    #print(\"PREDICTED: \",predicted)\n",
    "\n",
    "    positive_count = 0\n",
    "    for x in predicted:\n",
    "        if x==1:\n",
    "            positive_count=positive_count+1\n",
    "    return positive_count;"
   ]
  },
  {
   "cell_type": "code",
   "execution_count": 7,
   "metadata": {},
   "outputs": [],
   "source": [
    "def getEmotionFromText(text):\n",
    "    positives=getEmotions(text,clf_positive)\n",
    "    negatives=getEmotions(text,clf_negative)\n",
    "    bad=getEmotions(text,clf_bad)\n",
    "\n",
    "   # print(positives, negatives, bad)\n",
    "\n",
    "    if(bad>0):\n",
    "        return(\"Bad tweet ->%s\"%(text),0,0,1,0)\n",
    "    else:\n",
    "        if(positives-negatives)>0:\n",
    "            return(\"Positive tweet ->%s\"%(text),1,0,0,0)\n",
    "        elif(negatives-positives)>0:\n",
    "            return(\"Negative tweet ->%s\"%(text),0,1,0,0)\n",
    "        else:\n",
    "            return(\"Neutral tweet ->%s\"%(text),0,0,0,1)"
   ]
  },
  {
   "cell_type": "code",
   "execution_count": 33,
   "metadata": {
    "scrolled": false
   },
   "outputs": [
    {
     "name": "stdout",
     "output_type": "stream",
     "text": [
      "NEW FILE:  1000P1000N.txt\n",
      "\n",
      "\n",
      "\n",
      " NEW ITERATION\n",
      "\n",
      "\n",
      "\n",
      "NEW FILE:  2000P1000N.txt\n",
      "\n",
      "\n",
      "\n",
      " NEW ITERATION\n",
      "\n",
      "\n",
      "\n",
      "NEW FILE:  2000P2000N.txt\n",
      "\n",
      "\n",
      "\n",
      " NEW ITERATION\n",
      "\n",
      "\n",
      "\n",
      "NEW FILE:  All Words Formatted.txt\n",
      "\n",
      "\n",
      "\n",
      " NEW ITERATION\n",
      "\n",
      "\n",
      "\n",
      "[48, 70, 0, 0]\n",
      "[4, 0, 70, 70]\n",
      "[0, 0, 0, 0]\n",
      "[18, 0, 0, 0]\n"
     ]
    }
   ],
   "source": [
    "train_data_csv_name=\"C:/Users/anoel/Documents/Year 3 Quarter 2/CS 178/Final Project/178 Stuff/\"\n",
    "\n",
    "data_list = [\"1000P1000N.txt\",\"2000P1000N.txt\",\"2000P2000N.txt\",\"All Words Formatted.txt\",]\n",
    "positive_count=[]\n",
    "negative_count=[]\n",
    "Bad_count=[]\n",
    "ne_count= []\n",
    "for file_name in data_list:\n",
    "    print(\"NEW FILE: \",file_name)\n",
    "    df_x_words = np.genfromtxt(train_data_csv_name+file_name, delimiter=',', usecols=(0), dtype=str)\n",
    "    df_y_positive= np.genfromtxt(train_data_csv_name+file_name, delimiter=',', usecols=(1))\n",
    "    df_y_negative= np.genfromtxt(train_data_csv_name+file_name, delimiter=',', usecols=(2))\n",
    "    df_y_bad = np.genfromtxt(train_data_csv_name+file_name, delimiter=',', usecols=(3))\n",
    "\n",
    "    #print(df_x_words)\n",
    "    pCount = 0\n",
    "    nCount = 0\n",
    "    bCount = 0\n",
    "    neCount = 0\n",
    "    \n",
    "    \n",
    "    count_vect = CountVectorizer()\n",
    "    X_train_counts = count_vect.fit_transform(df_x_words)\n",
    "    tfidf_transformer = TfidfTransformer()\n",
    "    X_train_tfidf = tfidf_transformer.fit_transform(X_train_counts)\n",
    "    \n",
    "    clf_positive = MultinomialNB().fit(X_train_tfidf, df_y_positive)\n",
    "    clf_negative = MultinomialNB().fit(X_train_tfidf, df_y_negative)\n",
    "    clf_bad = MultinomialNB().fit(X_train_tfidf, df_y_bad)\n",
    "\n",
    "\n",
    "    outputfile = open(\"C:/Users/anoel/Documents/Year 3 Quarter 2/CS 178/Final Project/178 Stuff/SentimentAnalysis.txt\",'w')\n",
    "    tweet_file_name=\"C:/Users/anoel/Documents/Year 3 Quarter 2/CS 178/Final Project/178 Stuff/tweets_UCI_70tweets.txt\"\n",
    "    with open(tweet_file_name, encoding='latin-1') as f:\n",
    "        for line in f:\n",
    "            tmpstr,p,n,b,ne = getEmotionFromText(line)\n",
    "            pCount+=p\n",
    "            nCount+=n\n",
    "            bCount+=b\n",
    "            neCount+=ne\n",
    "            #print(tmpstr)\n",
    "            #outputfile.write(tmpstr)\n",
    "\n",
    "        \n",
    "    outputfile.close()\n",
    "    print(\"\\n\\n\\n NEW ITERATION\\n\\n\\n\")\n",
    "    positive_count.append(pCount)\n",
    "    negative_count.append(nCount)\n",
    "    Bad_count.append(bCount)\n",
    "    ne_count.append(neCount)\n",
    "\n",
    "print(positive_count)\n",
    "print(negative_count)\n",
    "print(Bad_count)\n",
    "print(ne_count)\n"
   ]
  },
  {
   "cell_type": "code",
   "execution_count": 95,
   "metadata": {},
   "outputs": [
    {
     "data": {
      "text/plain": [
       "<matplotlib.legend.Legend at 0x219c0e600b8>"
      ]
     },
     "execution_count": 95,
     "metadata": {},
     "output_type": "execute_result"
    },
    {
     "data": {
      "image/png": "[encoded data removed]",
      "text/plain": [
       "<Figure size 432x288 with 1 Axes>"
      ]
     },
     "metadata": {
      "needs_background": "light"
     },
     "output_type": "display_data"
    }
   ],
   "source": [
    "y=[0,1,2,3]\n",
    "plt.plot(ne_count,\"go\", label = \"Neutral Tweets\")\n",
    "plt.plot(positive_count,\"ro\",label = \"Positive Tweets\")\n",
    "plt.plot(negative_count,\"bo\", label =\"Negative Tweets\")\n",
    "plt.suptitle(\"Sentiment type by dataset\")\n",
    "plt.ylabel(\"Number of Tweets\")\n",
    "plt.xlabel(\"File\")\n",
    "plt.xticks(np.arange(min(y),max(y)+1,1.0))\n",
    "plt.legend()"
   ]
  },
  {
   "cell_type": "code",
   "execution_count": 91,
   "metadata": {},
   "outputs": [
    {
     "data": {
      "image/png": "[encoded data removed]",
      "text/plain": [
       "<Figure size 432x288 with 1 Axes>"
      ]
     },
     "metadata": {
      "needs_background": "light"
     },
     "output_type": "display_data"
    },
    {
     "data": {
      "image/png": "[encoded data removed]",
      "text/plain": [
       "<Figure size 432x288 with 1 Axes>"
      ]
     },
     "metadata": {
      "needs_background": "light"
     },
     "output_type": "display_data"
    },
    {
     "data": {
      "image/png": "[encoded data removed]",
      "text/plain": [
       "<Figure size 432x288 with 1 Axes>"
      ]
     },
     "metadata": {
      "needs_background": "light"
     },
     "output_type": "display_data"
    },
    {
     "data": {
      "image/png": "[encoded data removed]",
      "text/plain": [
       "<Figure size 432x288 with 1 Axes>"
      ]
     },
     "metadata": {
      "needs_background": "light"
     },
     "output_type": "display_data"
    }
   ],
   "source": [
    "y = [0,1,2,3]\n",
    "n = np.arange(1,4)\n",
    "graph= []\n",
    "for i in y:\n",
    "    graph=[positive_count[i],negative_count[i],ne_count[i]]\n",
    "    plt.figure(i)\n",
    "    plt.bar(n,graph)\n",
    "    plt.xticks(n,(\"Positive\", \"Negative\", \"Neutral\"))\n",
    "    plt.suptitle(data_list[i])\n",
    "    plt.xlabel(\"Sentiment\")\n",
    "    plt.ylabel(\"Number of Tweets\")\n",
    "    plt.show()\n",
    "    "
   ]
  },
  {
   "cell_type": "code",
   "execution_count": null,
   "metadata": {},
   "outputs": [],
   "source": []
  }
 ],
 "metadata": {
  "kernelspec": {
   "display_name": "Python 3",
   "language": "python",
   "name": "python3"
  },
  "language_info": {
   "codemirror_mode": {
    "name": "ipython",
    "version": 3
   },
   "file_extension": ".py",
   "mimetype": "text/x-python",
   "name": "python",
   "nbconvert_exporter": "python",
   "pygments_lexer": "ipython3",
   "version": "3.7.1"
  }
 },
 "nbformat": 4,
 "nbformat_minor": 2
}
